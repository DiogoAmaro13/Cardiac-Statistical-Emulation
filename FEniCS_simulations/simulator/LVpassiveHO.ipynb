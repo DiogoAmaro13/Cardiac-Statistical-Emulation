{
 "cells": [
  {
   "cell_type": "markdown",
   "metadata": {},
   "source": [
    "##### Import LHS Sampler"
   ]
  },
  {
   "cell_type": "code",
   "execution_count": 1,
   "metadata": {},
   "outputs": [],
   "source": [
    "import numpy as np\n",
    "import pandas as pd\n",
    "import os\n",
    "from lhs_sampler import generate_lhs_samples"
   ]
  },
  {
   "cell_type": "markdown",
   "metadata": {},
   "source": [
    "##### Generate 55 4D samples"
   ]
  },
  {
   "cell_type": "code",
   "execution_count": 2,
   "metadata": {},
   "outputs": [],
   "source": [
    "bounds = {\n",
    "    'a': (0.2, 5.0),\n",
    "    'b': (5, 10), \n",
    "    'a_f': (1, 5),\n",
    "    'b_f': (8, 13)\n",
    "}\n",
    "\n",
    "samples = generate_lhs_samples(bounds, n_samples=55)\n",
    "\n",
    "# allocate the samples to variables\n",
    "param_a = samples[:, 0]\n",
    "param_b = samples[:, 1]\n",
    "param_af = samples[:, 2]\n",
    "param_bf = samples[:, 3]\n"
   ]
  },
  {
   "cell_type": "markdown",
   "metadata": {},
   "source": [
    "##### Simulations"
   ]
  },
  {
   "cell_type": "code",
   "execution_count": 3,
   "metadata": {},
   "outputs": [],
   "source": [
    "from dolfin import *\n",
    "import matplotlib.pyplot as plt\n",
    "import numpy as np\n",
    "from ufl import cofac\n",
    "\n",
    "parameters[\"form_compiler\"][\"quadrature_degree\"] = 2\n",
    "parameters[\"form_compiler\"][\"cpp_optimize\"] = True\n",
    "parameters[\"form_compiler\"][\"representation\"] = \"uflacs\""
   ]
  },
  {
   "cell_type": "code",
   "execution_count": 5,
   "metadata": {},
   "outputs": [],
   "source": [
    "meshDir = '../HV2/'\n",
    "meshName = meshDir + 'lvgmsh_mesh.xml'\n",
    "mfName = meshDir + 'lvgmsh_fmaker.xml'\n",
    "#print(meshName, mfName)\n",
    "\n",
    "resultDir = meshDir+'results/'\n",
    "\n",
    "mesh = Mesh(meshName)\n",
    "mesh.scale(0.1) # this will scale the mesh unit to be cm\n",
    "mesh.ufl_cell()\n",
    "\n",
    "#plot(mesh, edgecolor='k', color=\"r\")\n",
    "\n",
    "#ax = plt.gca()\n",
    "#ax.view_init(elev=25, azim=-179)\n",
    "#plt.show()\n",
    "\n",
    "fibreName = meshDir+ 'HV2_fibre_dir.xml'\n",
    "sheetName = meshDir + 'HV2_sheet_dir.xml'\n",
    "normalName = meshDir + 'HV2_normal_dir.xml'"
   ]
  },
  {
   "cell_type": "code",
   "execution_count": 7,
   "metadata": {},
   "outputs": [],
   "source": [
    "def load_ellipsoid_data(meshName, mfName, fibreName, sheetName, normalName):\n",
    "    \"\"\"Returns 4-tuple:\n",
    "    mesh - the mesh, \n",
    "    mf - MeshFunction defining boundary markers, \n",
    "    numbering - dict of marking numbers,\n",
    "    fibers - list of functions defining microstructure\"\"\"\n",
    "\n",
    "    mesh = Mesh(meshName)\n",
    "    mesh.scale(0.1) # this will scale the mesh unit to be cm\n",
    "    mesh.ufl_cell()\n",
    "                \n",
    "    mf = MeshFunction(\"size_t\", mesh, mfName)\n",
    "\n",
    "    numbering = {\n",
    "        \"BASE\": 10,\n",
    "        \"ENDO\": 30,\n",
    "        \"EPI\": 40\n",
    "    }\n",
    "\n",
    "    # load fibers, sheet, cross_sheet data \n",
    "    fiber_element = VectorElement(family=\"Lagrange\",\n",
    "                                    cell=mesh.ufl_cell(),\n",
    "                                    degree=1,\n",
    "                                    quad_scheme=\"default\")\n",
    "    fiber_space = FunctionSpace(mesh, fiber_element)\n",
    "    fiber = Function(fiber_space, fibreName)\n",
    "    sheet = Function(fiber_space, sheetName)\n",
    "    cross_sheet = Function(fiber_space, normalName)\n",
    "\n",
    "    fibers = [fiber,sheet, cross_sheet]\n",
    "    \n",
    "    return mesh, mf, numbering, fibers\n",
    "\n",
    "def compute_cavity_volume(mesh,mf, numbering,u=None):\n",
    "    X = SpatialCoordinate(mesh) \n",
    "    N = FacetNormal(mesh)\n",
    "\n",
    "    if u is not None:\n",
    "        I = Identity(3) # the identity matrix\n",
    "        F = I + grad(u) # the deformation gradient\n",
    "        J = det(F)\n",
    "        vol_form = (-1.0/3.0) * dot(X + u, J * inv(F).T * N)\n",
    "    else:\n",
    "        vol_form = (-1.0/3.0) * dot(X, N)\n",
    "\n",
    "\n",
    "    ds = Measure('ds',domain=mesh,subdomain_data=mf)\n",
    "\n",
    "    return assemble(vol_form*ds(numbering[\"ENDO\"]))\n",
    "\n",
    "def subplus(x):\n",
    "    #return dolfin.conditional(dolfin.ge(x, 1), x, 1.0)\n",
    "    return conditional(ge(x, 1), x, 1.0)"
   ]
  },
  {
   "cell_type": "code",
   "execution_count": 8,
   "metadata": {},
   "outputs": [],
   "source": [
    "mesh, boundary_markers, numbering, fibers = load_ellipsoid_data(meshName, mfName, \n",
    "                                                fibreName, sheetName, normalName)"
   ]
  },
  {
   "cell_type": "code",
   "execution_count": 9,
   "metadata": {},
   "outputs": [
    {
     "name": "stdout",
     "output_type": "stream",
     "text": [
      "73.7313209876846\n"
     ]
    }
   ],
   "source": [
    "n_mesh = FacetNormal(mesh)\n",
    "ds = Measure('ds', domain=mesh, subdomain_data=boundary_markers)\n",
    "\n",
    "#q_degree = 2\n",
    "#dx = dx(metadata={'quadrature_degree': q_degree})\n",
    "\n",
    "#Compute_Volume_init()\n",
    "X = SpatialCoordinate(mesh)\n",
    "vol = abs(assemble((-1.0/3.0)*dot(X, n_mesh)*ds(numbering['ENDO'])))\n",
    "\n",
    "print(vol)"
   ]
  },
  {
   "cell_type": "code",
   "execution_count": 10,
   "metadata": {},
   "outputs": [],
   "source": [
    "V = VectorElement(\"CG\", mesh.ufl_cell(), 2)\n",
    "P = FiniteElement(\"CG\", mesh.ufl_cell(), 1)\n",
    "TH = V*P\n",
    "W = FunctionSpace(mesh, TH)\n",
    "\n",
    "w = Function(W)\n",
    "(u, p) = split(w)\n",
    "(du, dp) = TestFunctions(W)\n",
    "\n",
    "# Kinematics\n",
    "d = u.geometric_dimension()\n",
    "I = Identity(d)             # Identity tensor\n",
    "F = I + grad(u)             # Deformation gradient\n",
    "F = variable(F)\n",
    "C = F.T*F                   # Right Cauchy-Green tensor\n",
    "B = F*F.T\n",
    "\n",
    "# Invariants of deformation tensors\n",
    "I_1 = tr(C)\n",
    "J = det(F)\n",
    "\n",
    "# ------------ Original model parameters ------------\n",
    "\"\"\"# Material parameters\n",
    "alpha =1.0\n",
    "eta = 0.1   # weighting of transversal fiber tension\n",
    "rho = Constant(1.0)  # kg\n",
    "a = 0.280*alpha       # kPa\n",
    "a_f = 1.1685*alpha    # kPa\n",
    "a_s = 0.116*alpha       # kPa\n",
    "a_fs = 1.0*alpha       # kPa\n",
    "b = 7.780       # dimensionless\n",
    "b_f = 11.83425   # dimensionless\n",
    "b_s = 8       # dimensionless\n",
    "b_fs = 4       # dimensionless\"\"\"\n",
    "# --------------------------------------------\n",
    "\n",
    "# Changed parameters (55 times for 55 simulations)\n",
    "alpha =1.0\n",
    "eta = 0.1   # weighting of transversal fiber tension\n",
    "rho = Constant(1.0)  # kg\n",
    "a = param_a[54]*alpha       # kPa\n",
    "a_f = param_af[54]*alpha    # kPa\n",
    "a_s = 0.116*alpha       # kPa\n",
    "a_fs = 1.0*alpha       # kPa\n",
    "b = param_b[54]       # dimensionless\n",
    "b_f = param_bf[54]   # dimensionless\n",
    "b_s = 8       # dimensionless\n",
    "b_fs = 4       # dimensionless"
   ]
  },
  {
   "cell_type": "code",
   "execution_count": 11,
   "metadata": {},
   "outputs": [],
   "source": [
    "f_0 = fibers[0]\n",
    "s_0 = fibers[1]\n",
    "n_0 = fibers[2]\n",
    "f = F*f_0\n",
    "s = F*s_0\n",
    "n = F*n_0\n",
    "\n",
    "# Invariants\n",
    "I_4f = inner(C*f_0,f_0)\n",
    "I_4s = inner(C*s_0,s_0)\n",
    "I_4n = inner(C*n_0,n_0)\n",
    "I8fs = inner(C*f_0, s_0)\n",
    "\n",
    "# Initial conditions and boundary conditions\n",
    "boundaries = boundary_markers\n",
    "zero_displacement = Constant((\"0.0\", \"0.0\", \"0.0\"))\n",
    "bcr = DirichletBC(W.sub(0), zero_displacement, boundaries, numbering['BASE'])\n",
    "\n",
    "#zero_zdis = Constant(0.0)\n",
    "#bcr = DirichletBC(W.sub(0).sub(2), zero_zdis, boundaries, markers['BASE'][0])\n",
    "#print(W.sub(0).sub(0))\n",
    "#print(W.sub(0))\n",
    "#print(W.sub(1))\n",
    "\n",
    "\n",
    "bcs = [bcr]\n",
    "p0 = Constant(0); T_a = Constant(0)\n",
    "\n",
    "# Passive part\n",
    "passive_cauchy_stress = a*exp(b*(I_1 - 3))*B + 2*a_f*(subplus(I_4f)-1)*exp(b_f*pow( subplus(I_4f) - 1, 2))*outer(f,f) \\\n",
    "                        + 2*a_s*(subplus(I_4s)-1)*exp(b_s*pow( subplus(I_4s) - 1, 2))*outer(s,s)  \\\n",
    "                        + a_fs*I8fs*exp( b_fs*pow(I8fs,2) )*( outer(f,s)+outer(s,f) )  \\\n",
    "                        - p*I\n",
    "P_p = J*passive_cauchy_stress*inv(F).T\n",
    "\n",
    "# Active part\n",
    "active_cauchy_stress = T_a*(outer(f,f)+eta*outer(s,s)+eta*outer(n,n))\t\n",
    "P_a = J*active_cauchy_stress*inv(F.T)\n",
    "\n",
    "P =  P_p + P_a\n",
    "\n",
    "eq = inner(P,grad(du))*dx + inner(J-1,dp)*dx + dot(J*inv(F).T*n_mesh*p0, du)*ds(numbering['ENDO']) \n",
    "Jac = derivative(eq, w)"
   ]
  },
  {
   "cell_type": "code",
   "execution_count": 12,
   "metadata": {},
   "outputs": [],
   "source": [
    "ffc_options = {\"optimize\": True,\n",
    "               \"eliminate_zeros\": True,\n",
    "               \"precompute_basis_const\": True,\n",
    "               \"precompute_ip_const\": True}\n",
    "form_compiler_parameters = {\"keep_diagonal\": True}\n",
    "\n",
    "# in this example we will use a newton scheme to solve the nonlinear problem\n",
    "newton_solver_parameters = {'absolute_tolerance': 1E-3,\n",
    "                            'relative_tolerance': 1E-3,\n",
    "                            'maximum_iterations': 50,\n",
    "                            'report': True,\n",
    "                            'error_on_nonconvergence': False,\n",
    "                            'linear_solver': 'mumps',\n",
    "                            'preconditioner': 'petsc_amg'}\n",
    "\n",
    "#'linear_solver': 'mumps'\n",
    "\n",
    "# the linearized problem is solved using a krylov solver\n",
    "krylov_solver_parameters = {'absolute_tolerance': 1E-3,\n",
    "                            'relative_tolerance': 1E-3,\n",
    "                            'nonzero_initial_guess': True,\n",
    "                            'error_on_nonconvergence': True,\n",
    "                            'monitor_convergence': True,\n",
    "                            'report': True,\n",
    "                            'divergence_limit': 1E+12}\n",
    "\n",
    "solver_parameters = {'newton_solver': newton_solver_parameters,\n",
    "                     'krylov_solver': krylov_solver_parameters,\n",
    "                     'condition_number': False}\n",
    "\n",
    "\n",
    "\n",
    "solver = NonlinearVariationalSolver(None)\n",
    "prm = solver.parameters\n",
    "# newton solver settings\n",
    "prm['newton_solver']['convergence_criterion'] = 'incremental'\n",
    "prm['newton_solver']['absolute_tolerance'] = solver_parameters['newton_solver']['absolute_tolerance']\n",
    "prm['newton_solver']['relative_tolerance'] = solver_parameters['newton_solver']['relative_tolerance']\n",
    "prm['newton_solver']['maximum_iterations'] = solver_parameters['newton_solver']['maximum_iterations']\n",
    "prm['newton_solver']['report'] = solver_parameters['newton_solver']['report']\n",
    "prm['newton_solver']['error_on_nonconvergence'] = solver_parameters['newton_solver']['error_on_nonconvergence']\n",
    "prm['newton_solver']['linear_solver'] = solver_parameters['newton_solver']['linear_solver']\n",
    "#if prm['newton_solver']['linear_solver'] == 'gmres':\n",
    "#    prm['newton_solver']['preconditioner'] = 'icc'\n",
    "prm['newton_solver']['krylov_solver']['absolute_tolerance'] = solver_parameters['krylov_solver'][\n",
    "            'absolute_tolerance']\n",
    "prm['newton_solver']['krylov_solver']['maximum_iterations'] = 10000\n",
    "prm['newton_solver']['krylov_solver']['relative_tolerance'] = solver_parameters['krylov_solver'][\n",
    "            'relative_tolerance']\n",
    "prm['newton_solver']['krylov_solver']['nonzero_initial_guess'] = solver_parameters['krylov_solver'][\n",
    "            'nonzero_initial_guess']\n",
    "prm['newton_solver']['krylov_solver']['error_on_nonconvergence'] = solver_parameters['krylov_solver'][\n",
    "            'error_on_nonconvergence']\n",
    "prm['newton_solver']['krylov_solver']['monitor_convergence'] = solver_parameters['krylov_solver'][\n",
    "            'monitor_convergence']\n",
    "prm['newton_solver']['krylov_solver']['report'] = solver_parameters['krylov_solver']['report']\n",
    "prm['newton_solver']['krylov_solver']['divergence_limit'] = solver_parameters['krylov_solver'][\n",
    "            'divergence_limit']"
   ]
  },
  {
   "cell_type": "code",
   "execution_count": 13,
   "metadata": {},
   "outputs": [
    {
     "name": "stdout",
     "output_type": "stream",
     "text": [
      "1/20, pressure = 0.066650\n",
      "Calling FFC just-in-time (JIT) compiler, this may take some time.\n",
      "Calling FFC just-in-time (JIT) compiler, this may take some time.\n",
      "Solving nonlinear variational problem.\n",
      "  Newton iteration 0: r (abs) = 4.581e+01 (tol = 1.000e-03) r (rel) = 1.000e+00 (tol = 1.000e-03)\n",
      "  Newton iteration 1: r (abs) = 4.608e+00 (tol = 1.000e-03) r (rel) = 1.006e-01 (tol = 1.000e-03)\n",
      "  Newton iteration 2: r (abs) = 8.696e-01 (tol = 1.000e-03) r (rel) = 1.898e-02 (tol = 1.000e-03)\n",
      "  Newton iteration 3: r (abs) = 3.813e-02 (tol = 1.000e-03) r (rel) = 8.323e-04 (tol = 1.000e-03)\n",
      "  Newton solver finished in 4 iterations and 4 linear solver iterations.\n",
      "2/20, pressure = 0.133300\n",
      "3/20, pressure = 0.199950\n",
      "Solving nonlinear variational problem.\n",
      "  Newton iteration 0: r (abs) = 4.996e+00 (tol = 1.000e-03) r (rel) = 1.000e+00 (tol = 1.000e-03)\n",
      "  Newton iteration 1: r (abs) = 1.056e+00 (tol = 1.000e-03) r (rel) = 2.113e-01 (tol = 1.000e-03)\n",
      "  Newton iteration 2: r (abs) = 8.617e-02 (tol = 1.000e-03) r (rel) = 1.725e-02 (tol = 1.000e-03)\n",
      "  Newton iteration 3: r (abs) = 1.032e-03 (tol = 1.000e-03) r (rel) = 2.066e-04 (tol = 1.000e-03)\n",
      "  Newton solver finished in 4 iterations and 4 linear solver iterations.\n",
      "Solving nonlinear variational problem.\n",
      "  Newton iteration 0: r (abs) = 4.994e+00 (tol = 1.000e-03) r (rel) = 1.000e+00 (tol = 1.000e-03)\n",
      "  Newton iteration 1: r (abs) = 6.200e-01 (tol = 1.000e-03) r (rel) = 1.241e-01 (tol = 1.000e-03)\n",
      "  Newton iteration 2: r (abs) = 2.170e-02 (tol = 1.000e-03) r (rel) = 4.344e-03 (tol = 1.000e-03)\n",
      "  Newton iteration 3: r (abs) = 2.846e-04 (tol = 1.000e-03) r (rel) = 5.699e-05 (tol = 1.000e-03)\n",
      "  Newton solver finished in 4 iterations and 4 linear solver iterations.\n",
      "4/20, pressure = 0.266600\n",
      "Solving nonlinear variational problem.\n",
      "5/20, pressure = 0.333250\n",
      "  Newton iteration 0: r (abs) = 5.069e+00 (tol = 1.000e-03) r (rel) = 1.000e+00 (tol = 1.000e-03)\n",
      "  Newton iteration 1: r (abs) = 5.242e-01 (tol = 1.000e-03) r (rel) = 1.034e-01 (tol = 1.000e-03)\n",
      "  Newton iteration 2: r (abs) = 1.608e-02 (tol = 1.000e-03) r (rel) = 3.172e-03 (tol = 1.000e-03)\n",
      "  Newton iteration 3: r (abs) = 4.872e-05 (tol = 1.000e-03) r (rel) = 9.610e-06 (tol = 1.000e-03)\n",
      "  Newton solver finished in 4 iterations and 4 linear solver iterations.\n",
      "Solving nonlinear variational problem.\n",
      "  Newton iteration 0: r (abs) = 5.018e+00 (tol = 1.000e-03) r (rel) = 1.000e+00 (tol = 1.000e-03)\n",
      "  Newton iteration 1: r (abs) = 4.863e-01 (tol = 1.000e-03) r (rel) = 9.691e-02 (tol = 1.000e-03)\n",
      "  Newton iteration 2: r (abs) = 1.454e-02 (tol = 1.000e-03) r (rel) = 2.898e-03 (tol = 1.000e-03)\n",
      "  Newton iteration 3: r (abs) = 1.372e-05 (tol = 1.000e-03) r (rel) = 2.733e-06 (tol = 1.000e-03)\n",
      "  Newton solver finished in 4 iterations and 4 linear solver iterations.\n",
      "6/20, pressure = 0.399900\n",
      "Solving nonlinear variational problem.\n",
      "  Newton iteration 0: r (abs) = 4.892e+00 (tol = 1.000e-03) r (rel) = 1.000e+00 (tol = 1.000e-03)\n",
      "  Newton iteration 1: r (abs) = 4.242e-01 (tol = 1.000e-03) r (rel) = 8.673e-02 (tol = 1.000e-03)\n",
      "  Newton iteration 2: r (abs) = 1.112e-02 (tol = 1.000e-03) r (rel) = 2.273e-03 (tol = 1.000e-03)\n",
      "  Newton iteration 3: r (abs) = 1.524e-05 (tol = 1.000e-03) r (rel) = 3.116e-06 (tol = 1.000e-03)\n",
      "  Newton solver finished in 4 iterations and 4 linear solver iterations.\n",
      "7/20, pressure = 0.466550\n",
      "8/20, pressure = 0.533200\n",
      "Solving nonlinear variational problem.\n",
      "9/20, pressure = 0.599850\n",
      "10/20, pressure = 0.666500\n",
      "  Newton iteration 0: r (abs) = 4.759e+00 (tol = 1.000e-03) r (rel) = 1.000e+00 (tol = 1.000e-03)\n",
      "  Newton iteration 1: r (abs) = 3.687e-01 (tol = 1.000e-03) r (rel) = 7.747e-02 (tol = 1.000e-03)\n",
      "  Newton iteration 2: r (abs) = 8.128e-03 (tol = 1.000e-03) r (rel) = 1.708e-03 (tol = 1.000e-03)\n",
      "  Newton iteration 3: r (abs) = 7.117e-06 (tol = 1.000e-03) r (rel) = 1.495e-06 (tol = 1.000e-03)\n",
      "  Newton solver finished in 4 iterations and 4 linear solver iterations.\n",
      "Solving nonlinear variational problem.\n",
      "  Newton iteration 0: r (abs) = 4.631e+00 (tol = 1.000e-03) r (rel) = 1.000e+00 (tol = 1.000e-03)\n",
      "  Newton iteration 1: r (abs) = 3.078e-01 (tol = 1.000e-03) r (rel) = 6.646e-02 (tol = 1.000e-03)\n",
      "  Newton iteration 2: r (abs) = 5.557e-03 (tol = 1.000e-03) r (rel) = 1.200e-03 (tol = 1.000e-03)\n",
      "  Newton iteration 3: r (abs) = 4.956e-06 (tol = 1.000e-03) r (rel) = 1.070e-06 (tol = 1.000e-03)\n",
      "  Newton solver finished in 4 iterations and 4 linear solver iterations.\n",
      "Solving nonlinear variational problem.\n",
      "  Newton iteration 0: r (abs) = 4.527e+00 (tol = 1.000e-03) r (rel) = 1.000e+00 (tol = 1.000e-03)\n",
      "  Newton iteration 1: r (abs) = 2.598e-01 (tol = 1.000e-03) r (rel) = 5.739e-02 (tol = 1.000e-03)\n",
      "  Newton iteration 2: r (abs) = 4.097e-03 (tol = 1.000e-03) r (rel) = 9.051e-04 (tol = 1.000e-03)\n",
      "  Newton solver finished in 3 iterations and 3 linear solver iterations.\n",
      "Solving nonlinear variational problem.\n",
      "  Newton iteration 0: r (abs) = 4.438e+00 (tol = 1.000e-03) r (rel) = 1.000e+00 (tol = 1.000e-03)\n",
      "  Newton iteration 1: r (abs) = 2.201e-01 (tol = 1.000e-03) r (rel) = 4.959e-02 (tol = 1.000e-03)\n",
      "  Newton iteration 2: r (abs) = 2.993e-03 (tol = 1.000e-03) r (rel) = 6.744e-04 (tol = 1.000e-03)\n",
      "  Newton solver finished in 3 iterations and 3 linear solver iterations.\n",
      "11/20, pressure = 0.733150\n",
      "Solving nonlinear variational problem.\n",
      "12/20, pressure = 0.799800\n",
      "  Newton iteration 0: r (abs) = 4.364e+00 (tol = 1.000e-03) r (rel) = 1.000e+00 (tol = 1.000e-03)\n",
      "  Newton iteration 1: r (abs) = 1.866e-01 (tol = 1.000e-03) r (rel) = 4.277e-02 (tol = 1.000e-03)\n",
      "  Newton iteration 2: r (abs) = 2.191e-03 (tol = 1.000e-03) r (rel) = 5.019e-04 (tol = 1.000e-03)\n",
      "  Newton solver finished in 3 iterations and 3 linear solver iterations.\n",
      "Solving nonlinear variational problem.\n",
      "  Newton iteration 0: r (abs) = 4.303e+00 (tol = 1.000e-03) r (rel) = 1.000e+00 (tol = 1.000e-03)\n",
      "  Newton iteration 1: r (abs) = 1.528e-01 (tol = 1.000e-03) r (rel) = 3.551e-02 (tol = 1.000e-03)\n",
      "  Newton iteration 2: r (abs) = 1.338e-03 (tol = 1.000e-03) r (rel) = 3.109e-04 (tol = 1.000e-03)\n",
      "  Newton solver finished in 3 iterations and 3 linear solver iterations.\n",
      "13/20, pressure = 0.866450\n",
      "Solving nonlinear variational problem.\n",
      "  Newton iteration 0: r (abs) = 4.256e+00 (tol = 1.000e-03) r (rel) = 1.000e+00 (tol = 1.000e-03)\n",
      "  Newton iteration 1: r (abs) = 1.295e-01 (tol = 1.000e-03) r (rel) = 3.043e-02 (tol = 1.000e-03)\n",
      "  Newton iteration 2: r (abs) = 1.088e-03 (tol = 1.000e-03) r (rel) = 2.556e-04 (tol = 1.000e-03)\n",
      "  Newton solver finished in 3 iterations and 3 linear solver iterations.\n",
      "14/20, pressure = 0.933100\n",
      "Solving nonlinear variational problem.\n",
      "15/20, pressure = 0.999750\n",
      "  Newton iteration 0: r (abs) = 4.216e+00 (tol = 1.000e-03) r (rel) = 1.000e+00 (tol = 1.000e-03)\n",
      "  Newton iteration 1: r (abs) = 1.122e-01 (tol = 1.000e-03) r (rel) = 2.662e-02 (tol = 1.000e-03)\n",
      "  Newton iteration 2: r (abs) = 1.111e-03 (tol = 1.000e-03) r (rel) = 2.636e-04 (tol = 1.000e-03)\n",
      "  Newton solver finished in 3 iterations and 3 linear solver iterations.\n",
      "Solving nonlinear variational problem.\n",
      "  Newton iteration 0: r (abs) = 4.182e+00 (tol = 1.000e-03) r (rel) = 1.000e+00 (tol = 1.000e-03)\n",
      "  Newton iteration 1: r (abs) = 9.686e-02 (tol = 1.000e-03) r (rel) = 2.316e-02 (tol = 1.000e-03)\n",
      "  Newton iteration 2: r (abs) = 7.171e-04 (tol = 1.000e-03) r (rel) = 1.715e-04 (tol = 1.000e-03)\n",
      "  Newton solver finished in 3 iterations and 3 linear solver iterations.\n",
      "16/20, pressure = 1.066400\n",
      "Solving nonlinear variational problem.\n",
      "  Newton iteration 0: r (abs) = 4.154e+00 (tol = 1.000e-03) r (rel) = 1.000e+00 (tol = 1.000e-03)\n",
      "  Newton iteration 1: r (abs) = 8.394e-02 (tol = 1.000e-03) r (rel) = 2.021e-02 (tol = 1.000e-03)\n",
      "  Newton iteration 2: r (abs) = 5.730e-04 (tol = 1.000e-03) r (rel) = 1.379e-04 (tol = 1.000e-03)\n",
      "  Newton solver finished in 3 iterations and 3 linear solver iterations.\n",
      "17/20, pressure = 1.133050\n",
      "18/20, pressure = 1.199700\n",
      "19/20, pressure = 1.266350\n",
      "Solving nonlinear variational problem.\n",
      "  Newton iteration 0: r (abs) = 4.129e+00 (tol = 1.000e-03) r (rel) = 1.000e+00 (tol = 1.000e-03)\n",
      "  Newton iteration 1: r (abs) = 7.200e-02 (tol = 1.000e-03) r (rel) = 1.744e-02 (tol = 1.000e-03)\n",
      "  Newton iteration 2: r (abs) = 3.548e-04 (tol = 1.000e-03) r (rel) = 8.592e-05 (tol = 1.000e-03)\n",
      "  Newton solver finished in 3 iterations and 3 linear solver iterations.\n",
      "Solving nonlinear variational problem.\n",
      "  Newton iteration 0: r (abs) = 4.110e+00 (tol = 1.000e-03) r (rel) = 1.000e+00 (tol = 1.000e-03)\n",
      "  Newton iteration 1: r (abs) = 6.472e-02 (tol = 1.000e-03) r (rel) = 1.575e-02 (tol = 1.000e-03)\n",
      "  Newton iteration 2: r (abs) = 3.110e-04 (tol = 1.000e-03) r (rel) = 7.567e-05 (tol = 1.000e-03)\n",
      "  Newton solver finished in 3 iterations and 3 linear solver iterations.\n",
      "Solving nonlinear variational problem.\n",
      "  Newton iteration 0: r (abs) = 4.092e+00 (tol = 1.000e-03) r (rel) = 1.000e+00 (tol = 1.000e-03)\n",
      "  Newton iteration 1: r (abs) = 5.805e-02 (tol = 1.000e-03) r (rel) = 1.419e-02 (tol = 1.020/20, pressure = 1.333000\n",
      "00e-03)\n",
      "  Newton iteration 2: r (abs) = 2.486e-04 (tol = 1.000e-03) r (rel) = 6.075e-05 (tol = 1.000e-03)\n",
      "  Newton solver finished in 3 iterations and 3 linear solver iterations.\n",
      "Solving nonlinear variational problem.\n",
      "  Newton iteration 0: r (abs) = 4.076e+00 (tol = 1.000e-03) r (rel) = 1.000e+00 (tol = 1.000e-03)\n",
      "  Newton iteration 1: r (abs) = 5.243e-02 (tol = 1.000e-03) r (rel) = 1.286e-02 (tol = 1.000e-03)\n",
      "  Newton iteration 2: r (abs) = 1.878e-04 (tol = 1.000e-03) r (rel) = 4.607e-05 (tol = 1.000e-03)\n",
      "  Newton solver finished in 3 iterations and 3 linear solver iterations.\n"
     ]
    }
   ],
   "source": [
    "total_pressure = 10*133.3/1000.0 #in kPa\n",
    "steps = 20\n",
    "volume =  np.zeros(steps+1)\n",
    "pressure= np.zeros(steps+1)\n",
    "volume[0] = compute_cavity_volume(mesh,boundary_markers,numbering,u)\n",
    "pressure[0] = 0.0\n",
    "#saveFile= File(f\"{resultDir}/result.pvd\")\n",
    "   \n",
    "for i in range(steps):\n",
    "    print('%i/%i, pressure = %f' % (i+1, steps, total_pressure/steps*(i+1)))\n",
    "    current_pressure = total_pressure/steps*(i+1) \n",
    "    p0.assign(current_pressure)\n",
    "    T_a.assign(0)\n",
    "    #solve(eq==0,w,bcs,J=Jac)\n",
    "    problem = NonlinearVariationalProblem(eq, w, bcs, J=Jac)\n",
    "    solver = NonlinearVariationalSolver(problem)\n",
    "    \n",
    "    prm = solver.parameters\n",
    "    # newton solver settings\n",
    "    prm['newton_solver']['convergence_criterion'] = 'incremental'\n",
    "    prm['newton_solver']['absolute_tolerance'] = solver_parameters['newton_solver']['absolute_tolerance']\n",
    "    prm['newton_solver']['relative_tolerance'] = solver_parameters['newton_solver']['relative_tolerance']\n",
    "    prm['newton_solver']['maximum_iterations'] = solver_parameters['newton_solver']['maximum_iterations']\n",
    "    prm['newton_solver']['report'] = solver_parameters['newton_solver']['report']\n",
    "    prm['newton_solver']['error_on_nonconvergence'] = solver_parameters['newton_solver']['error_on_nonconvergence']\n",
    "    prm['newton_solver']['linear_solver'] = solver_parameters['newton_solver']['linear_solver']\n",
    "    #if prm['newton_solver']['linear_solver'] == 'gmres':\n",
    "    #    prm['newton_solver']['preconditioner'] = 'icc'\n",
    "    prm['newton_solver']['krylov_solver']['absolute_tolerance'] = solver_parameters['krylov_solver'][\n",
    "                'absolute_tolerance']\n",
    "    prm['newton_solver']['krylov_solver']['maximum_iterations'] = 10000\n",
    "    prm['newton_solver']['krylov_solver']['relative_tolerance'] = solver_parameters['krylov_solver'][\n",
    "                'relative_tolerance']\n",
    "    prm['newton_solver']['krylov_solver']['nonzero_initial_guess'] = solver_parameters['krylov_solver'][\n",
    "                'nonzero_initial_guess']\n",
    "    prm['newton_solver']['krylov_solver']['error_on_nonconvergence'] = solver_parameters['krylov_solver'][\n",
    "                'error_on_nonconvergence']\n",
    "    prm['newton_solver']['krylov_solver']['monitor_convergence'] = solver_parameters['krylov_solver'][\n",
    "                'monitor_convergence']\n",
    "    prm['newton_solver']['krylov_solver']['report'] = solver_parameters['krylov_solver']['report']\n",
    "    prm['newton_solver']['krylov_solver']['divergence_limit'] = solver_parameters['krylov_solver'][\n",
    "                'divergence_limit']\n",
    "\n",
    "    \n",
    "    solver.solve()\n",
    "    \n",
    "    u = w.split()[0]\n",
    "    volume[i+1] = compute_cavity_volume(mesh,boundary_markers,numbering,u)\n",
    "    pressure[i+1] = current_pressure\n",
    "    # SAVE VOLUME AND PRESSURE\n",
    "    #u.rename('displacement', 'u')\n",
    "    #saveFile << (u, float(i) + 1)"
   ]
  },
  {
   "cell_type": "code",
   "execution_count": 14,
   "metadata": {},
   "outputs": [
    {
     "name": "stdout",
     "output_type": "stream",
     "text": [
      "[0.      0.06665 0.1333  0.19995 0.2666  0.33325 0.3999  0.46655 0.5332\n",
      " 0.59985 0.6665  0.73315 0.7998  0.86645 0.9331  0.99975 1.0664  1.13305\n",
      " 1.1997  1.26635 1.333  ]\n",
      "[ 73.73132099  78.95287201  83.70764425  87.90741871  91.63360736\n",
      "  94.94567927  97.90114324 100.55165917 102.94062215 105.10623933\n",
      " 107.08010591 108.88884457 110.55537179 112.09886113 113.53453914\n",
      " 114.87563231 116.13282964 117.31599702 118.4330664  119.49050933\n",
      " 120.49412004]\n"
     ]
    },
    {
     "data": {
      "image/png": "[encoded data removed]",
      "text/plain": [
       "<Figure size 640x480 with 1 Axes>"
      ]
     },
     "metadata": {},
     "output_type": "display_data"
    }
   ],
   "source": [
    "print(pressure)\n",
    "print(volume)\n",
    "plt.plot(volume, pressure*1000.0/133.3)\n",
    "plt.xlabel('volume (mL)')\n",
    "plt.ylabel('pressure (mmHg)')\n",
    "plt.show()"
   ]
  },
  {
   "cell_type": "code",
   "execution_count": null,
   "metadata": {},
   "outputs": [
    {
     "data": {
      "text/plain": [
       "(4.801712205370671,\n",
       " 8.937511882408009,\n",
       " 3.8885112999416234,\n",
       " 12.954659671203702,\n",
       " 95.34559116597966)"
      ]
     },
     "execution_count": 434,
     "metadata": {},
     "output_type": "execute_result"
    }
   ],
   "source": [
    "a, b, a_f, b_f, volume[-1]"
   ]
  },
  {
   "cell_type": "markdown",
   "metadata": {},
   "source": [
    "##### Save data"
   ]
  },
  {
   "cell_type": "code",
   "execution_count": null,
   "metadata": {},
   "outputs": [],
   "source": [
    "results = []"
   ]
  },
  {
   "cell_type": "markdown",
   "metadata": {},
   "source": [
    "##### Append"
   ]
  },
  {
   "cell_type": "code",
   "execution_count": null,
   "metadata": {},
   "outputs": [],
   "source": [
    "results.append({\n",
    "    'a': a,\n",
    "    'b': b,\n",
    "    'a_f': a_f,\n",
    "    'b_f': b_f,\n",
    "    'edv': volume[-1]\n",
    "})"
   ]
  },
  {
   "cell_type": "markdown",
   "metadata": {},
   "source": [
    "##### Save df"
   ]
  },
  {
   "cell_type": "code",
   "execution_count": null,
   "metadata": {},
   "outputs": [
    {
     "name": "stdout",
     "output_type": "stream",
     "text": [
      "CSV saved to: 55_data/lhs_dataset.csv\n"
     ]
    }
   ],
   "source": [
    "df = pd.DataFrame(results)\n",
    "\n",
    "# Specify folder and filename\n",
    "folder = \"toy_model\" / \"data\" \n",
    "filename = \"lhs_dataset.csv\"\n",
    "\n",
    "# Ensure the folder exists\n",
    "os.makedirs(folder, exist_ok=True)\n",
    "\n",
    "# Full file path\n",
    "filepath = os.path.join(folder, filename)\n",
    "\n",
    "# Save as CSV\n",
    "df.to_csv(filepath, index=False)\n",
    "\n",
    "print(f\"CSV saved to: {filepath}\")\n",
    "\n"
   ]
  },
  {
   "cell_type": "markdown",
   "metadata": {
    "jp-MarkdownHeadingCollapsed": true
   },
   "source": [
    "# Not relevant from this point on"
   ]
  },
  {
   "cell_type": "code",
   "execution_count": null,
   "metadata": {},
   "outputs": [],
   "source": [
    "## project the stress tensor \n",
    "# https://fenicsproject.discourse.group/t/how-to-choose-projection-space-for-stress-tensor-post-processing/5568\n",
    "\n",
    "Vsig = TensorFunctionSpace(mesh, \"DG\", degree=0) # copied from texts but not understood\n",
    "sig_num = Function(Vsig, name=\"Stress Numeric\")\n",
    "\n",
    "u = w.split()[0]\n",
    "p = w.split()[1]\n",
    "\n",
    "F = I + grad(u)             # Deformation gradient\n",
    "F = variable(F)\n",
    "C = F.T*F                   # Right Cauchy-Green tensor\n",
    "B = F*F.T\n",
    "\n",
    "I_1 = tr(C)\n",
    "J = det(F)\n",
    "\n",
    "f = F*f_0\n",
    "s = F*s_0\n",
    "n = F*n_0\n",
    "\n",
    "# Invariants\n",
    "I_4f = inner(C*f_0,f_0)\n",
    "I_4s = inner(C*s_0,s_0)\n",
    "I_4n = inner(C*n_0,n_0)\n",
    "I8fs = inner(C*f_0, s_0)\n",
    "\n",
    "cauchy_stress = a*exp(b*(I_1 - 3))*B + 2*a_f*(subplus(I_4f)-1)*exp(b_f*pow( subplus(I_4f) - 1, 2))*outer(f,f) \\\n",
    "                        + 2*a_s*(subplus(I_4s)-1)*exp(b_s*pow( subplus(I_4s) - 1, 2))*outer(s,s)  \\\n",
    "                        + a_fs*I8fs*exp( b_fs*pow(I8fs,2) )*( outer(f,s)+outer(s,f) )  \\\n",
    "                        - p*I\n",
    "\n",
    "sig_num.assign(project(cauchy_stress, Vsig))\n",
    "\n",
    "\n",
    "P_p = J*passive_cauchy_stress*inv(F).T\n",
    "eq = inner(P_p,grad(du))*dx + inner(J-1,dp)*dx + dot(J*inv(F).T*n_mesh*p0, du)*ds(numbering['ENDO']) "
   ]
  },
  {
   "cell_type": "code",
   "execution_count": null,
   "metadata": {},
   "outputs": [
    {
     "name": "stdout",
     "output_type": "stream",
     "text": [
      "Calling FFC just-in-time (JIT) compiler, this may take some time.\n",
      "9573.261122129548\n"
     ]
    }
   ],
   "source": [
    "import dolfin\n",
    "Div_P = dolfin.div(P_p)\n",
    "Psi_V = inner(Div_P, Div_P)\n",
    "N = FacetNormal(mesh)\n",
    "Jump_P_N = dolfin.jump(P, N)\n",
    "cell_h = dolfin.Constant(mesh.hmin())\n",
    "Psi_F = dolfin.inner(Jump_P_N, Jump_P_N)/cell_h\n",
    "dF = dolfin.Measure('dS', mesh)\n",
    "Psi_F_energy = assemble(Psi_F*dF)\n",
    "DivP_energy = assemble(Psi_V*dx)\n",
    "\n",
    "print(DivP_energy+Psi_F_energy)\n"
   ]
  },
  {
   "cell_type": "code",
   "execution_count": null,
   "metadata": {},
   "outputs": [
    {
     "name": "stdout",
     "output_type": "stream",
     "text": [
      "Calling FFC just-in-time (JIT) compiler, this may take some time.\n",
      "2.1625487511833796e-10 104.07190830027724 -104.07190830006273\n"
     ]
    }
   ],
   "source": [
    "# figure the equation that is being solved, the loading pressure is weakly enforced, seems not point-wise equal\n",
    "eq = inner(P_p,grad(u))*dx + inner(J-1,p)*dx + dot(J*inv(F).T*n_mesh*p0, u)*ds(numbering['ENDO']) \n",
    "eq_internal = inner(P_p,grad(u))*dx + inner(J-1,p)*dx \n",
    "eq_external = dot(J*inv(F).T*n_mesh*p0, u)*ds(numbering['ENDO'])\n",
    "total_eq = assemble(eq)\n",
    "total_eq_internal = assemble(eq_internal)\n",
    "total_eq_external = assemble(eq_external)\n",
    "print(total_eq, total_eq_internal, total_eq_external)"
   ]
  },
  {
   "cell_type": "code",
   "execution_count": null,
   "metadata": {},
   "outputs": [
    {
     "name": "stdout",
     "output_type": "stream",
     "text": [
      "82.59033627721838\n",
      "-0.3028745842751896\n",
      "-1.9441558599159159\n"
     ]
    }
   ],
   "source": [
    "# trying to say what is the value of stress projection on the endo surface \n",
    "# https://fenicsproject.discourse.group/t/why-is-the-normal-stress-non-zero-at-boundary-where-i-impose-zero-normal-stress/5193\n",
    "V = VectorFunctionSpace(mesh, \"CG\", 1)\n",
    "u_int = project(u, V)\n",
    "deformed_mesh = Mesh(mesh)\n",
    "ALE.move(deformed_mesh, u_int)\n",
    "n_mesh_def = FacetNormal(deformed_mesh)\n",
    "\n",
    "endo_area = assemble(1*ds(numbering['ENDO']))\n",
    "print(endo_area)\n",
    "\n",
    "P_p = J*cauchy_stress*inv(F).T\n",
    "\n",
    "stress_nor = dot(P_p*n_mesh, n_mesh)*ds(numbering['ENDO']) #now need to figure out the right value of first PK\n",
    "total_stress_nor = assemble(stress_nor)\n",
    "\n",
    "p_nor = dot( -J*p0*inv(F).T*n_mesh, n_mesh)*ds(numbering['ENDO'])\n",
    "#p_nor = J*p0*ds(numbering['ENDO'])\n",
    "total_p_nor = assemble(p_nor)\n",
    "\n",
    "print(total_stress_nor/endo_area)\n",
    "print(total_p_nor/endo_area)\n",
    "\n",
    "\n",
    "\n",
    "#VsigNor = FunctionSpace(mesh, \"DG\") \n",
    "#sig_nor = Function(VsigNor, 'normal stress')\n",
    "#sig_nor.assign(project(stress_nor, VsigNor))\n",
    "\n",
    "\n",
    "\n",
    "#stressNorm = Function(U, name=\"StressNorm\")\n",
    "#stressNorm.assign(project(stress_nor),U)\n",
    "#fileResults.write(stressNorm,0.)"
   ]
  },
  {
   "cell_type": "code",
   "execution_count": null,
   "metadata": {},
   "outputs": [],
   "source": [
    "dFE = FiniteElement(\"DG\", deformed_mesh.ufl_cell(), 0)\n",
    "FE = FiniteElement(\"Lagrange\",  mesh.ufl_cell() ,1)\n",
    "vFE = VectorElement(FE)\n",
    "tFE = TensorElement(dFE)\n",
    "fileResults = XDMFFile(resultDir+\"output.xdmf\")\n",
    "fileResults.parameters[\"flush_output\"] = True\n",
    "fileResults.parameters[\"functions_share_mesh\"] = True\n",
    "\n",
    "U = FunctionSpace(mesh, dFE)\n",
    "V = FunctionSpace(mesh, vFE)\n",
    "W = FunctionSpace(mesh, tFE)\n",
    "\n",
    "stress = Function(W, name='Stress')\n",
    "stress.assign(project(cauchy_stress, W))\n",
    "fileResults.write(stress,0.)"
   ]
  },
  {
   "cell_type": "code",
   "execution_count": null,
   "metadata": {},
   "outputs": [
    {
     "data": {
      "text/plain": [
       "<Figure size 2000x1000 with 0 Axes>"
      ]
     },
     "metadata": {},
     "output_type": "display_data"
    }
   ],
   "source": [
    "## Fenics does not work with new version of Matplotlib for showing the mesh in jupyter\n",
    "## skip it for now\n",
    "\n",
    "# Plot the deformed cube and the original\n",
    "from mpl_toolkits import mplot3d\n",
    "\n",
    "fig = plt.figure(figsize = (20,10))\n",
    "# Plot the result on to of the original\n",
    "#axes1 = fig.add_subplot(projection = '3d')\n",
    "\n",
    "V = VectorFunctionSpace(mesh, \"CG\", 1)\n",
    "u_int = project(u, V)\n",
    "deformed_mesh = Mesh(mesh)\n",
    "ALE.move(deformed_mesh, u_int)\n",
    "\n",
    "\n",
    "#plot(deformed_mesh, alpha=0.1, edgecolor='k', color='w')\n",
    "#plot(mesh, color=\"r\")\n",
    "\n",
    "#ax = plt.gca()\n",
    "#ax.view_init(elev=25, azim=-179)\n",
    "#ax.set_axis_on()\n",
    "plt.show()\n",
    "\n",
    "\n",
    "#mesh_file = dolfin.File(f\"{save_dir}/lv_deformed.pvd\")\n",
    "#mesh_file << deformed_mesh"
   ]
  }
 ],
 "metadata": {
  "kernelspec": {
   "display_name": "jax-fem-env",
   "language": "python",
   "name": "python3"
  },
  "language_info": {
   "codemirror_mode": {
    "name": "ipython",
    "version": 3
   },
   "file_extension": ".py",
   "mimetype": "text/x-python",
   "name": "python",
   "nbconvert_exporter": "python",
   "pygments_lexer": "ipython3",
   "version": "3.9.18"
  }
 },
 "nbformat": 4,
 "nbformat_minor": 4
}
